{
  "nbformat": 4,
  "nbformat_minor": 0,
  "metadata": {
    "colab": {
      "name": "Untitled100.ipynb",
      "provenance": [],
      "collapsed_sections": []
    },
    "kernelspec": {
      "display_name": "Python 3",
      "name": "python3"
    }
  },
  "cells": [
    {
      "cell_type": "code",
      "metadata": {
        "id": "0mw5Us7Hgblf"
      },
      "source": [
        "import matplotlib.pyplot as plt\n",
        "import matplotlib.ticker as ticker\n",
        "import tensorflow as tf \n",
        "import numpy as np\n",
        "from sklearn.model_selection import train_test_split\n",
        "import os\n",
        "import re\n",
        "import io\n",
        "import unicodedata\n",
        "import time"
      ],
      "execution_count": null,
      "outputs": []
    },
    {
      "cell_type": "code",
      "metadata": {
        "colab": {
          "base_uri": "https://localhost:8080/"
        },
        "id": "LZPpItyzy9pY",
        "outputId": "cf7f9061-7716-46ed-a935-fbda323af641"
      },
      "source": [
        "path_to_zip = tf.keras.utils.get_file('spa-eng.zip',origin='http://storage.googleapis.com/download.tensorflow.org/data/spa-eng.zip',extract=True)"
      ],
      "execution_count": null,
      "outputs": [
        {
          "output_type": "stream",
          "text": [
            "Downloading data from http://storage.googleapis.com/download.tensorflow.org/data/spa-eng.zip\n",
            "2646016/2638744 [==============================] - 0s 0us/step\n"
          ],
          "name": "stdout"
        }
      ]
    },
    {
      "cell_type": "code",
      "metadata": {
        "id": "bDv8jFdU4LA0"
      },
      "source": [
        "path_to_file = os.path.dirname(path_to_zip)+'/spa-eng/spa.txt'"
      ],
      "execution_count": null,
      "outputs": []
    },
    {
      "cell_type": "code",
      "metadata": {
        "id": "pqJi4D0t4aYs"
      },
      "source": [
        "def unicode_to_ascii(s):\n",
        "  return ''.join(c for c in unicodedata.normalize('NFD', s)\n",
        "      if unicodedata.category(c) != 'Mn')"
      ],
      "execution_count": null,
      "outputs": []
    },
    {
      "cell_type": "code",
      "metadata": {
        "id": "Ydjk_jeY6a6D"
      },
      "source": [
        "\n",
        "def preprocess_sentence(w):\n",
        "  w = unicode_to_ascii(w.lower().strip())\n",
        "\n",
        "  w = re.sub(r\"([?.!,¿])\", r\" \\1 \", w)\n",
        "  w = re.sub(r'[\" \"]+', \" \", w)\n",
        "  w = re.sub(r\"[^a-zA-Z?.!,¿]+\", \" \", w)\n",
        "\n",
        "  w = w.strip()\n",
        "\n",
        "  w = '<start> ' + w + ' <end>'\n",
        "  return w"
      ],
      "execution_count": null,
      "outputs": []
    },
    {
      "cell_type": "code",
      "metadata": {
        "colab": {
          "base_uri": "https://localhost:8080/"
        },
        "id": "xY2yQixyAGXa",
        "outputId": "9daf12dc-2ca3-4bea-e332-0a8ed3ee0449"
      },
      "source": [
        "en_sentence = u\"May I borrow this book?\"\n",
        "sp_sentence = u\"¿Puedo tomar prestado este libro?\"\n",
        "print(preprocess_sentence(en_sentence))\n",
        "print(preprocess_sentence(sp_sentence).encode('utf-8'))"
      ],
      "execution_count": null,
      "outputs": [
        {
          "output_type": "stream",
          "text": [
            "<start> may i borrow this book ? <end>\n",
            "b'<start> \\xc2\\xbf puedo tomar prestado este libro ? <end>'\n"
          ],
          "name": "stdout"
        }
      ]
    },
    {
      "cell_type": "code",
      "metadata": {
        "id": "fhITMVkVBWs6"
      },
      "source": [
        "def create_dataset(path,num_examples):\n",
        "  lines = io.open(path,encoding='UTF-8').read().strip().split('\\n')\n",
        "  word_pairs=[[preprocess_sentence(w) for w in l.split('\\t')] for l in lines[:num_examples]]\n",
        "  return zip(*word_pairs)"
      ],
      "execution_count": null,
      "outputs": []
    },
    {
      "cell_type": "code",
      "metadata": {
        "id": "Vb1XNKm2FcAh"
      },
      "source": [
        "en,sp = create_dataset(path_to_file,None)"
      ],
      "execution_count": null,
      "outputs": []
    },
    {
      "cell_type": "code",
      "metadata": {
        "colab": {
          "base_uri": "https://localhost:8080/"
        },
        "id": "0cdSkcKmFiZH",
        "outputId": "370bbee4-ce2f-4cff-a86d-89ebb28aeddf"
      },
      "source": [
        "print(en[-1])\n",
        "print(sp[-1])"
      ],
      "execution_count": null,
      "outputs": [
        {
          "output_type": "stream",
          "text": [
            "<start> if you want to sound like a native speaker , you must be willing to practice saying the same sentence over and over in the same way that banjo players practice the same phrase over and over until they can play it correctly and at the desired tempo . <end>\n",
            "<start> si quieres sonar como un hablante nativo , debes estar dispuesto a practicar diciendo la misma frase una y otra vez de la misma manera en que un musico de banjo practica el mismo fraseo una y otra vez hasta que lo puedan tocar correctamente y en el tiempo esperado . <end>\n"
          ],
          "name": "stdout"
        }
      ]
    },
    {
      "cell_type": "code",
      "metadata": {
        "id": "7bPizFg1FoIJ"
      },
      "source": [
        "def tokenize(lang):\n",
        "  lang_tokenizer =tf.keras.preprocessing.text.Tokenizer(filters='')\n",
        "  lang_tokenizer.fit_on_texts(lang)\n",
        "  tensor = lang_tokenizer.texts_to_sequences(lang)\n",
        "  tensor = tf.keras.preprocessing.sequence.pad_sequences(tensor,padding='post')\n",
        "  return tensor,lang_tokenizer"
      ],
      "execution_count": null,
      "outputs": []
    },
    {
      "cell_type": "code",
      "metadata": {
        "id": "RLm_Pl1jJKdX"
      },
      "source": [
        "def load_dataset(path,num_examples=None):\n",
        "  target_lang,inp_lang = create_dataset(path,num_examples)\n",
        "  input_tensor,inp_lang_tokenizer=tokenize(inp_lang)\n",
        "  target_tensor,target_lang_tokenizer= tokenize(target_lang)\n",
        "  return input_tensor,target_tensor,inp_lang_tokenizer,target_lang_tokenizer"
      ],
      "execution_count": null,
      "outputs": []
    },
    {
      "cell_type": "code",
      "metadata": {
        "id": "iN7yLfetN3w0"
      },
      "source": [
        "num_examples = 30000\n",
        "input_tensor,target_tensor,inp_lang_tokenizer,target_lang_tokenizer= load_dataset(path_to_file,num_examples)\n",
        "input_tensor_train,input_tensor_val,target_tensor_train,target_tensor_val= train_test_split(input_tensor,target_tensor,test_size=0.2)"
      ],
      "execution_count": null,
      "outputs": []
    },
    {
      "cell_type": "code",
      "metadata": {
        "colab": {
          "base_uri": "https://localhost:8080/"
        },
        "id": "mc-cR0n6Q077",
        "outputId": "a4803662-10d6-43bb-e241-2b13176ece91"
      },
      "source": [
        "print(len(input_tensor_train),len(input_tensor_val),len(target_tensor_train),len(target_tensor_val))"
      ],
      "execution_count": null,
      "outputs": [
        {
          "output_type": "stream",
          "text": [
            "24000 6000 24000 6000\n"
          ],
          "name": "stdout"
        }
      ]
    },
    {
      "cell_type": "code",
      "metadata": {
        "id": "nWlh0s7sRPt0"
      },
      "source": [
        "def convert(lang,tensor):\n",
        "  for t in tensor:\n",
        "    if t!=0:\n",
        "      print('%d.........%s'%(t,lang.index_word[t]))"
      ],
      "execution_count": null,
      "outputs": []
    },
    {
      "cell_type": "code",
      "metadata": {
        "colab": {
          "base_uri": "https://localhost:8080/"
        },
        "id": "NQSpaEqWTcwg",
        "outputId": "96c10c99-13c3-4552-d6b8-309e85af74fb"
      },
      "source": [
        "print('input language,index to word_mapping')\n",
        "convert(inp_lang_tokenizer,input_tensor[0])\n",
        "print()\n",
        "print('target language,index to word_mapping')\n",
        "convert(target_lang_tokenizer,target_tensor[0])"
      ],
      "execution_count": null,
      "outputs": [
        {
          "output_type": "stream",
          "text": [
            "input language,index to word_mapping\n",
            "1.........<start>\n",
            "135.........ve\n",
            "3..........\n",
            "2.........<end>\n",
            "\n",
            "target language,index to word_mapping\n",
            "1.........<start>\n",
            "36.........go\n",
            "3..........\n",
            "2.........<end>\n"
          ],
          "name": "stdout"
        }
      ]
    },
    {
      "cell_type": "code",
      "metadata": {
        "id": "m3IqEMEWYP5D"
      },
      "source": [
        "buffer_size=len(input_tensor_train)\n",
        "batch_size=64\n",
        "steps_per_epoch= len(input_tensor_train)//batch_size\n",
        "embedding_dim = 256\n",
        "units = 1024\n",
        "vocab_inp_size=len(inp_lang_tokenizer.word_index)+1\n",
        "vocab_targ_size= len(target_lang_tokenizer.word_index)+1\n",
        "dataset = tf.data.Dataset.from_tensor_slices((input_tensor_train,target_tensor_train)).shuffle(buffer_size)\n",
        "dataset = dataset.batch(batch_size,drop_remainder=True)"
      ],
      "execution_count": null,
      "outputs": []
    },
    {
      "cell_type": "code",
      "metadata": {
        "colab": {
          "base_uri": "https://localhost:8080/"
        },
        "id": "HDHLrfx7fxRJ",
        "outputId": "b7e877c2-f575-4e89-dc1f-994c9e537885"
      },
      "source": [
        "example_input_batch,example_target_batch = next(iter(dataset))\n",
        "example_input_batch.shape,example_target_batch.shape"
      ],
      "execution_count": null,
      "outputs": [
        {
          "output_type": "execute_result",
          "data": {
            "text/plain": [
              "(TensorShape([64, 16]), TensorShape([64, 11]))"
            ]
          },
          "metadata": {
            "tags": []
          },
          "execution_count": 17
        }
      ]
    },
    {
      "cell_type": "code",
      "metadata": {
        "colab": {
          "base_uri": "https://localhost:8080/"
        },
        "id": "hjYozwH_gXRx",
        "outputId": "94137b99-3a5f-4c1a-d7df-fd18fbec46be"
      },
      "source": [
        "class Encoder(tf.keras.Model):\n",
        "  def __init__(self,vocab_siz,embedding_dim,enc_units,batch_size):\n",
        "    super(Encoder,self).__init__()\n",
        "    self.batch_size = batch_size\n",
        "    self.enc_units= enc_units\n",
        "    self.embedding = tf.keras.layers.Embedding(vocab_siz,embedding_dim)\n",
        "    self.gru = tf.keras.layers.GRU(self.enc_units,return_sequences=True,return_state=True,recurrent_initializer='glorot_uniform')\n",
        "  \n",
        "\n",
        "  def call(self,x,hidden):\n",
        "    x= self.embedding(x)\n",
        "    output,state = self.gru(x,initial_state=hidden)\n",
        "    return output,state\n",
        "  def initialize_hidden_state(self):\n",
        "    return tf.zeros((self.batch_size,self.enc_units))\n",
        "\n",
        "encoder = Encoder(vocab_inp_size,embedding_dim,units,batch_size)\n",
        "sample_hidden = encoder.initialize_hidden_state()\n",
        "sample_output,sample_hidden=encoder(example_input_batch,sample_hidden)\n",
        "print ('Encoder output shape: (batch size, sequence length, units) {}'.format(sample_output.shape))\n",
        "print ('Encoder Hidden state shape: (batch size, units) {}'.format(sample_hidden.shape)) "
      ],
      "execution_count": null,
      "outputs": [
        {
          "output_type": "stream",
          "text": [
            "Encoder output shape: (batch size, sequence length, units) (64, 16, 1024)\n",
            "Encoder Hidden state shape: (batch size, units) (64, 1024)\n"
          ],
          "name": "stdout"
        }
      ]
    },
    {
      "cell_type": "code",
      "metadata": {
        "id": "tKEBPC2A_uo4"
      },
      "source": [
        "class BananaAttention(tf.keras.layers.Layer):\n",
        "  def __init__(self,units):\n",
        "    super(BananaAttention,self).__init__()\n",
        "    self.W1=tf.keras.layers.Dense(units)\n",
        "    self.W2=tf.keras.layers.Dense(units)\n",
        "    self.V= tf.keras.layers.Dense(1)\n",
        "  def call(self,query,values):\n",
        "    query_with_time_axis= tf.expand_dims(query,1)\n",
        "    score = self.V(tf.nn.tanh(self.W1(query_with_time_axis)+self.W2(values)))\n",
        "    attention_weights = tf.nn.softmax(score,axis=1)\n",
        "    context_vector = attention_weights*values\n",
        "    context_vector = tf.reduce_sum(context_vector,axis=1)\n",
        "    return context_vector,attention_weights"
      ],
      "execution_count": null,
      "outputs": []
    },
    {
      "cell_type": "code",
      "metadata": {
        "colab": {
          "base_uri": "https://localhost:8080/"
        },
        "id": "05YAOppRJtBM",
        "outputId": "df660b03-ad1d-4082-b9e5-ca47c9f98748"
      },
      "source": [
        "attention_layer = BananaAttention(10)\n",
        "attention_result,attention_weights = attention_layer(sample_hidden,sample_output)\n",
        "\n",
        "print(\"Attention result shape: (batch size, units) {}\".format(attention_result.shape))\n",
        "print(\"Attention weights shape: (batch_size, sequence_length, 1) {}\".format(attention_weights.shape))"
      ],
      "execution_count": null,
      "outputs": [
        {
          "output_type": "stream",
          "text": [
            "Attention result shape: (batch size, units) (64, 1024)\n",
            "Attention weights shape: (batch_size, sequence_length, 1) (64, 16, 1)\n"
          ],
          "name": "stdout"
        }
      ]
    },
    {
      "cell_type": "code",
      "metadata": {
        "id": "uTucxfgAKCQg"
      },
      "source": [
        "class Decoder(tf.keras.Model):\n",
        "  def __init__(self,vocab_size,embedding_dim,dec_units,batch_sz):\n",
        "    super(Decoder,self).__init__()\n",
        "    self.batch_sz=batch_sz\n",
        "    self.dec_units=dec_units\n",
        "    self.embedding = tf.keras.layers.Embedding(vocab_size,embedding_dim)\n",
        "    self.gru = tf.keras.layers.GRU(self.dec_units,return_sequences=True,return_state=True,recurrent_initializer='glorot_uniform')\n",
        "    self.fc = tf.keras.layers.Dense(vocab_size)\n",
        "    self.attention =BananaAttention(self.dec_units)\n",
        "  def call(self,x,hidden,enc_output):\n",
        "    context_vector,attention_weights = self.attention(hidden,enc_output)\n",
        "    x= self.embedding(x)\n",
        "    x= tf.concat([tf.expand_dims(context_vector,1),x],axis=-1)\n",
        "    output,state = self.gru(x)\n",
        "    output= tf.reshape(output,(-1,output.shape[2]))\n",
        "    x=self.fc(output)\n",
        "    return x,state,attention_weights"
      ],
      "execution_count": null,
      "outputs": []
    },
    {
      "cell_type": "code",
      "metadata": {
        "colab": {
          "base_uri": "https://localhost:8080/"
        },
        "id": "roshle2ARrqz",
        "outputId": "cc01aa12-1720-4b03-db91-5e7a85921217"
      },
      "source": [
        "decoder = Decoder(vocab_targ_size, embedding_dim, units, batch_size)\n",
        "\n",
        "sample_decoder_output, _, _ = decoder(tf.random.uniform((batch_size, 1)),\n",
        "                                      sample_hidden, sample_output)\n",
        "\n",
        "print ('Decoder output shape: (batch_size, vocab size) {}'.format(sample_decoder_output.shape))"
      ],
      "execution_count": null,
      "outputs": [
        {
          "output_type": "stream",
          "text": [
            "Decoder output shape: (batch_size, vocab size) (64, 4935)\n"
          ],
          "name": "stdout"
        }
      ]
    },
    {
      "cell_type": "code",
      "metadata": {
        "id": "F43kmh0ebGOz"
      },
      "source": [
        "optimizer = tf.keras.optimizers.Adam()\n",
        "loss_object = tf.keras.losses.SparseCategoricalCrossentropy(\n",
        "    from_logits=True, reduction='none')\n",
        "\n",
        "def loss_function(real, pred):\n",
        "  mask = tf.math.logical_not(tf.math.equal(real, 0))\n",
        "  loss_ = loss_object(real, pred)\n",
        "\n",
        "  mask = tf.cast(mask, dtype=loss_.dtype)\n",
        "  loss_ *= mask\n",
        "\n",
        "  return tf.reduce_mean(loss_)"
      ],
      "execution_count": null,
      "outputs": []
    },
    {
      "cell_type": "code",
      "metadata": {
        "id": "jqQABVEthlRf"
      },
      "source": [
        "checkpoint_dir = './training_checkpoints'\n",
        "checkpoint_prefix = os.path.join(checkpoint_dir, \"ckpt\")\n",
        "checkpoint = tf.train.Checkpoint(optimizer=optimizer,\n",
        "                                 encoder=encoder,\n",
        "                                 decoder=decoder)"
      ],
      "execution_count": null,
      "outputs": []
    },
    {
      "cell_type": "code",
      "metadata": {
        "id": "83_9WtxPiIlN"
      },
      "source": [
        "@tf.function\n",
        "def train_step(inp, targ, enc_hidden):\n",
        "  loss = 0\n",
        "\n",
        "  with tf.GradientTape() as tape:\n",
        "    enc_output, enc_hidden = encoder(inp, enc_hidden)\n",
        "\n",
        "    dec_hidden = enc_hidden\n",
        "\n",
        "    dec_input = tf.expand_dims([target_lang_tokenizer.word_index['<start>']] * batch_size, 1)\n",
        "\n",
        "    # Teacher forcing - feeding the target as the next input\n",
        "    for t in range(1, targ.shape[1]):\n",
        "      # passing enc_output to the decoder\n",
        "      predictions, dec_hidden, _ = decoder(dec_input, dec_hidden, enc_output)\n",
        "\n",
        "      loss += loss_function(targ[:, t], predictions)\n",
        "\n",
        "      # using teacher forcing\n",
        "      dec_input = tf.expand_dims(targ[:, t], 1)\n",
        "\n",
        "  batch_loss = (loss / int(targ.shape[1]))\n",
        "\n",
        "  variables = encoder.trainable_variables + decoder.trainable_variables\n",
        "\n",
        "  gradients = tape.gradient(loss, variables)\n",
        "\n",
        "  optimizer.apply_gradients(zip(gradients, variables))\n",
        "\n",
        "  return batch_loss"
      ],
      "execution_count": null,
      "outputs": []
    },
    {
      "cell_type": "code",
      "metadata": {
        "colab": {
          "background_save": true,
          "base_uri": "https://localhost:8080/"
        },
        "id": "C0c6GAEFvAoi",
        "outputId": "fb066cb8-857f-440a-83a6-06442181c125"
      },
      "source": [
        "\n",
        "EPOCHS = 10\n",
        "\n",
        "for epoch in range(EPOCHS):\n",
        "  start = time.time()\n",
        "\n",
        "  enc_hidden = encoder.initialize_hidden_state()\n",
        "  total_loss = 0\n",
        "\n",
        "  for (batch, (inp, targ)) in enumerate(dataset.take(steps_per_epoch)):\n",
        "    batch_loss = train_step(inp, targ, enc_hidden)\n",
        "    total_loss += batch_loss\n",
        "\n",
        "    if batch % 100 == 0:\n",
        "      print('Epoch {} Batch {} Loss {:.4f}'.format(epoch + 1,\n",
        "                                                   batch,\n",
        "                                                   batch_loss.numpy()))\n",
        "  # saving (checkpoint) the model every 2 epochs\n",
        "  if (epoch + 1) % 2 == 0:\n",
        "    checkpoint.save(file_prefix = checkpoint_prefix)\n",
        "\n",
        "  print('Epoch {} Loss {:.4f}'.format(epoch + 1,\n",
        "                                      total_loss / steps_per_epoch))\n",
        "  print('Time taken for 1 epoch {} sec\\n'.format(time.time() - start))"
      ],
      "execution_count": null,
      "outputs": [
        {
          "output_type": "stream",
          "text": [
            "Epoch 1 Batch 0 Loss 4.5296\n",
            "Epoch 1 Batch 100 Loss 2.3300\n",
            "Epoch 1 Batch 200 Loss 2.0896\n",
            "Epoch 1 Batch 300 Loss 1.9927\n",
            "Epoch 1 Loss 2.1680\n",
            "Time taken for 1 epoch 1389.7129895687103 sec\n",
            "\n",
            "Epoch 2 Batch 0 Loss 1.6605\n",
            "Epoch 2 Batch 100 Loss 1.6363\n",
            "Epoch 2 Batch 200 Loss 1.6557\n",
            "Epoch 2 Batch 300 Loss 1.4047\n",
            "Epoch 2 Loss 1.5555\n",
            "Time taken for 1 epoch 1368.0302550792694 sec\n",
            "\n",
            "Epoch 3 Batch 0 Loss 1.3029\n",
            "Epoch 3 Batch 100 Loss 1.1943\n",
            "Epoch 3 Batch 200 Loss 1.2551\n",
            "Epoch 3 Batch 300 Loss 1.2838\n",
            "Epoch 3 Loss 1.2274\n",
            "Time taken for 1 epoch 1356.45298910141 sec\n",
            "\n",
            "Epoch 4 Batch 0 Loss 0.9199\n",
            "Epoch 4 Batch 100 Loss 1.0470\n",
            "Epoch 4 Batch 200 Loss 1.0309\n",
            "Epoch 4 Batch 300 Loss 0.9679\n",
            "Epoch 4 Loss 0.9805\n",
            "Time taken for 1 epoch 1372.0852992534637 sec\n",
            "\n",
            "Epoch 5 Batch 0 Loss 0.8673\n",
            "Epoch 5 Batch 100 Loss 0.8249\n",
            "Epoch 5 Batch 200 Loss 0.7190\n",
            "Epoch 5 Batch 300 Loss 0.8404\n",
            "Epoch 5 Loss 0.7557\n",
            "Time taken for 1 epoch 1363.0701167583466 sec\n",
            "\n",
            "Epoch 6 Batch 0 Loss 0.6344\n",
            "Epoch 6 Batch 100 Loss 0.5214\n",
            "Epoch 6 Batch 200 Loss 0.5872\n",
            "Epoch 6 Batch 300 Loss 0.5327\n",
            "Epoch 6 Loss 0.5690\n",
            "Time taken for 1 epoch 1369.7975499629974 sec\n",
            "\n",
            "Epoch 7 Batch 0 Loss 0.4557\n",
            "Epoch 7 Batch 100 Loss 0.4107\n",
            "Epoch 7 Batch 200 Loss 0.5083\n",
            "Epoch 7 Batch 300 Loss 0.3000\n",
            "Epoch 7 Loss 0.4266\n",
            "Time taken for 1 epoch 1354.6317052841187 sec\n",
            "\n",
            "Epoch 8 Batch 0 Loss 0.3559\n",
            "Epoch 8 Batch 100 Loss 0.3683\n",
            "Epoch 8 Batch 200 Loss 0.3120\n",
            "Epoch 8 Batch 300 Loss 0.3126\n",
            "Epoch 8 Loss 0.3183\n",
            "Time taken for 1 epoch 1356.6003320217133 sec\n",
            "\n",
            "Epoch 9 Batch 0 Loss 0.2285\n",
            "Epoch 9 Batch 100 Loss 0.2560\n",
            "Epoch 9 Batch 200 Loss 0.2503\n",
            "Epoch 9 Batch 300 Loss 0.2867\n",
            "Epoch 9 Loss 0.2436\n",
            "Time taken for 1 epoch 1358.1799056529999 sec\n",
            "\n",
            "Epoch 10 Batch 0 Loss 0.1897\n",
            "Epoch 10 Batch 100 Loss 0.1543\n",
            "Epoch 10 Batch 200 Loss 0.2272\n",
            "Epoch 10 Batch 300 Loss 0.2248\n",
            "Epoch 10 Loss 0.1902\n",
            "Time taken for 1 epoch 1366.6292502880096 sec\n",
            "\n"
          ],
          "name": "stdout"
        }
      ]
    },
    {
      "cell_type": "code",
      "metadata": {
        "id": "QQP0nz9yyzY0"
      },
      "source": [
        "def evaluate(sentence):\n",
        "  attention_plot= np.zeros((max_length_targ,max_length_inp))\n",
        "  sentence= preprocess_sentence(sentence)\n",
        "  inputs = [inp_lang.word_index(i) for i in sentence.split(' ')]\n",
        "  inputs = tf.keras.preprocessing.sequences.pad_sequence([inputs],maxlen= max_length_inp,padding='post')\n",
        "  inputs = tf.convert_to_tensor(inputs)\n",
        "  result = ''\n",
        "  hidden = [tf.zeros((1,units))]\n",
        "  enc_out,enc_hidden= encoder(input,hidden)\n",
        "  dec_hidden = enc_hidden\n",
        "  dec_input = tf.expand_dims([targ_lang.word_index['<start>']],0)\n",
        "  for t in range(max_length_targ):\n",
        "     predictions, dec_hidden, attention_weights = decoder(dec_input,\n",
        "                                                         dec_hidden,\n",
        "                                                         enc_out)\n",
        "\n",
        "    # storing the attention weights to plot later on\n",
        "    attention_weights = tf.reshape(attention_weights, (-1, ))\n",
        "    attention_plot[t] = attention_weights.numpy()\n",
        "\n",
        "    predicted_id = tf.argmax(predictions[0]).numpy()\n",
        "\n",
        "    result += targ_lang.index_word[predicted_id] + ' '\n",
        "\n",
        "    if targ_lang.index_word[predicted_id] == '<end>':\n",
        "      return result, sentence, attention_plot\n",
        "\n",
        "    # the predicted ID is fed back into the model\n",
        "    dec_input = tf.expand_dims([predicted_id], 0)\n",
        "\n",
        "  return result, sentence, attention_plot"
      ],
      "execution_count": null,
      "outputs": []
    },
    {
      "cell_type": "code",
      "metadata": {
        "id": "Ws6ecy_M53I8"
      },
      "source": [
        "# function for plotting the attention weights\n",
        "def plot_attention(attention, sentence, predicted_sentence):\n",
        "  fig = plt.figure(figsize=(10,10))\n",
        "  ax = fig.add_subplot(1, 1, 1)\n",
        "  ax.matshow(attention, cmap='viridis')\n",
        "\n",
        "  fontdict = {'fontsize': 14}\n",
        "\n",
        "  ax.set_xticklabels([''] + sentence, fontdict=fontdict, rotation=90)\n",
        "  ax.set_yticklabels([''] + predicted_sentence, fontdict=fontdict)\n",
        "\n",
        "  ax.xaxis.set_major_locator(ticker.MultipleLocator(1))\n",
        "  ax.yaxis.set_major_locator(ticker.MultipleLocator(1))\n",
        "\n",
        "  plt.show()"
      ],
      "execution_count": null,
      "outputs": []
    },
    {
      "cell_type": "code",
      "metadata": {
        "id": "N0TqHTZl560m"
      },
      "source": [
        "def translate(sentence):\n",
        "  result, sentence, attention_plot = evaluate(sentence)\n",
        "\n",
        "  print('Input: %s' % (sentence))\n",
        "  print('Predicted translation: {}'.format(result))\n",
        "\n",
        "  attention_plot = attention_plot[:len(result.split(' ')), :len(sentence.split(' '))]\n",
        "  plot_attention(attention_plot, sentence.split(' '), result.split(' '))"
      ],
      "execution_count": null,
      "outputs": []
    },
    {
      "cell_type": "code",
      "metadata": {
        "id": "9hr9Nc0g59ci"
      },
      "source": [
        "\n",
        "checkpoint.restore(tf.train.latest_checkpoint(checkpoint_dir))"
      ],
      "execution_count": null,
      "outputs": []
    },
    {
      "cell_type": "code",
      "metadata": {
        "id": "Ea3doHSQ6DVP"
      },
      "source": [
        "translate(u'hace mucho frio aqui.')"
      ],
      "execution_count": null,
      "outputs": []
    },
    {
      "cell_type": "code",
      "metadata": {
        "id": "N8QkXURy6IEk"
      },
      "source": [
        ""
      ],
      "execution_count": null,
      "outputs": []
    }
  ]
}